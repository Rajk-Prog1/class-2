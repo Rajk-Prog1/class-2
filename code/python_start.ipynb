{
 "cells": [
  {
   "cell_type": "markdown",
   "id": "409c33ed",
   "metadata": {},
   "source": [
    "# Python Basics\n",
    "\n",
    "### 1 . Indentation\n",
    "Python uses indentation (spaces or tabs) to define the structure of your code. Indentation is crucial because it tells Python which blocks of code belong together. \n",
    "In Python, you’ll usually use 4 spaces per indentation level or tabs (consistency is key).\n",
    "\n"
   ]
  },
  {
   "cell_type": "code",
   "execution_count": null,
   "id": "527e3e57",
   "metadata": {},
   "outputs": [],
   "source": [
    "print(\"Hello, world!\")"
   ]
  },
  {
   "cell_type": "markdown",
   "id": "98459c1e",
   "metadata": {},
   "source": [
    "\n",
    "## 2. Variable Assignment in Python\n",
    "\n",
    "In Python, you assign values to variables using the `=` operator. The variable name goes on the left, and the value goes on the right.\n",
    "\n",
    "Variables can hold different types of values, such as strings, integers, and floats.\n",
    "\n",
    "### Variable Naming\n",
    "In Python, variable names must follow certain rules:\n",
    "- Variable names must begin with a letter or an underscore (`_`), not a number.\n",
    "- They can only contain alphanumeric characters and underscores.\n",
    "- Variable names are case-sensitive (`stormlight` and `Stormlight` are different).\n",
    "- The recommended naming convention is **snake_case**, which uses lowercase letters and underscores to separate words.\n",
    "\n",
    "Good variable names should be descriptive to make the code easy to understand."
   ]
  },
  {
   "cell_type": "code",
   "execution_count": null,
   "id": "7e4159a5",
   "metadata": {},
   "outputs": [],
   "source": [
    "x = True\n",
    "stormlight_reserve = 100\n",
    "shardblade = \"Oathbringer\"\n",
    "mistborn = \"Vin\""
   ]
  },
  {
   "cell_type": "markdown",
   "id": "16d5d658",
   "metadata": {},
   "source": [
    "\n",
    "## 3. Basic Operators and Data Types\n",
    "\n",
    "Python supports several types of operators, such as arithmetic and logical operators. Here are some of the most common ones:\n",
    "\n",
    "### Arithmetic Operators:\n",
    "- **Addition** (`+`), **Subtraction** (`-`), **Multiplication** (`*`), **Division** (`/`)\n",
    "- **Modulo** (`%`): Returns the remainder of a division.\n",
    "- **Exponentiation** (`**`): Raises one number to the power of another."
   ]
  },
  {
   "cell_type": "code",
   "execution_count": null,
   "id": "27eb86be",
   "metadata": {},
   "outputs": [],
   "source": [
    "stormlight = 100\n",
    "used_stormlight = 30\n",
    "remaining_stormlight = stormlight - used_stormlight\n",
    "print(remaining_stormlight) "
   ]
  },
  {
   "cell_type": "code",
   "execution_count": null,
   "id": "0af00e69",
   "metadata": {},
   "outputs": [],
   "source": [
    "atium = 10\n",
    "remaining_atium = atium % 3\n",
    "print(remaining_atium)"
   ]
  },
  {
   "cell_type": "code",
   "execution_count": null,
   "id": "cbca3fc5",
   "metadata": {},
   "outputs": [],
   "source": [
    "radiant_order = \"Windrunner\"\n",
    "character = \"Kaladin\"\n",
    "full_title = radiant_order + \" \" + character\n",
    "print(full_title)"
   ]
  },
  {
   "cell_type": "code",
   "execution_count": null,
   "id": "26e38571",
   "metadata": {},
   "outputs": [],
   "source": [
    "print(radiant_order * 5) "
   ]
  },
  {
   "cell_type": "markdown",
   "id": "24d1d0b1",
   "metadata": {},
   "source": [
    "\n",
    "## 4. Logical Operators\n",
    "\n",
    "Logical operators allow you to combine conditions. The three main logical operators are:\n",
    "- **and**: Returns `True` if both conditions are true.\n",
    "- **or**: Returns `True` if at least one condition is true.\n",
    "- **not**: Reverses the truth value.\n",
    "\n",
    "Logical operators are frequently used in control structures to handle complex decision-making.\n"
   ]
  },
  {
   "cell_type": "code",
   "execution_count": null,
   "id": "e8bea9c6",
   "metadata": {},
   "outputs": [],
   "source": [
    "is_knight_radiant = True\n",
    "is_lighteyes = False\n",
    "print(is_knight_radiant and is_lighteyes) "
   ]
  },
  {
   "cell_type": "code",
   "execution_count": null,
   "id": "bae4b48c",
   "metadata": {},
   "outputs": [],
   "source": [
    "print(is_knight_radiant or is_lighteyes)"
   ]
  },
  {
   "cell_type": "code",
   "execution_count": null,
   "id": "8eca8a23",
   "metadata": {},
   "outputs": [],
   "source": [
    "print(not is_knight_radiant)"
   ]
  },
  {
   "cell_type": "markdown",
   "id": "4b8cebf6",
   "metadata": {},
   "source": [
    "\n",
    "## 5. If Statements\n",
    "\n",
    "An `if` statement allows you to run a block of code based on whether a condition is true.\n"
   ]
  },
  {
   "cell_type": "code",
   "execution_count": null,
   "id": "6cc321eb",
   "metadata": {},
   "outputs": [],
   "source": [
    "### Example with just an `if` statement:\n",
    "stormlight = 80\n",
    "if stormlight > 50:\n",
    "    print(\"Got it!\")"
   ]
  },
  {
   "cell_type": "code",
   "execution_count": null,
   "id": "3c1d0b95",
   "metadata": {},
   "outputs": [],
   "source": [
    "### Example with `if` and `else`:\n",
    "stormlight = 30\n",
    "if stormlight > 50:\n",
    "    print(\"Got it!\")\n",
    "else:\n",
    "    print(\"Needs to recharge!\")"
   ]
  },
  {
   "cell_type": "code",
   "execution_count": null,
   "id": "088b5bf3",
   "metadata": {},
   "outputs": [],
   "source": [
    "### Example with `if`, `elif`, and `else`:\n",
    "stormlight = 40\n",
    "if stormlight > 70:\n",
    "    print(\"Fully charged!\")\n",
    "elif stormlight > 50:\n",
    "    print(\"Enough.\")\n",
    "else:\n",
    "    print(\"Needs more!\")"
   ]
  },
  {
   "cell_type": "code",
   "execution_count": null,
   "id": "418ce0d7",
   "metadata": {},
   "outputs": [],
   "source": [
    "### Two separate `if` statements:\n",
    "stormlight = 60\n",
    "if stormlight > 50:\n",
    "    print(\"Got it!\")\n",
    "if stormlight < 20:\n",
    "    print(\"Needs to recharge!\")"
   ]
  },
  {
   "cell_type": "code",
   "execution_count": null,
   "id": "3487571b",
   "metadata": {},
   "outputs": [],
   "source": [
    "###You can combine them into one `if-elif-else` statement:\n",
    "if stormlight > 50:\n",
    "    print(\"Got it!\")\n",
    "elif stormlight < 20:\n",
    "    print(\"Mehh!\")\n",
    "else:\n",
    "    print(\"Nothing left\")"
   ]
  },
  {
   "cell_type": "markdown",
   "id": "457f182c",
   "metadata": {},
   "source": [
    "\n",
    "## 6. While Loops\n",
    "\n",
    "A `while` loop repeatedly executes a block of code as long as a given condition is true. It’s useful when you don’t know in advance how many times you need to loop.\n"
   ]
  },
  {
   "cell_type": "code",
   "execution_count": null,
   "id": "77893798",
   "metadata": {},
   "outputs": [],
   "source": [
    "stormlight = 10\n",
    "while stormlight > 0:\n",
    "    print(f\"Remaining: {stormlight}\")\n",
    "    stormlight -= 1\n",
    "# This loop will keep running until `stormlight` becomes 0."
   ]
  },
  {
   "cell_type": "code",
   "execution_count": null,
   "id": "c96bba9a",
   "metadata": {},
   "outputs": [],
   "source": [
    "stormlight = 15\n",
    "while stormlight > 10:\n",
    "    print(\"Still has plenty!\")\n",
    "    stormlight -= 1\n",
    "\n",
    "#The loop will stop when the condition `stormlight > 10` is no longer true."
   ]
  }
 ],
 "metadata": {
  "kernelspec": {
   "display_name": "Python 3",
   "language": "python",
   "name": "python3"
  },
  "language_info": {
   "codemirror_mode": {
    "name": "ipython",
    "version": 3
   },
   "file_extension": ".py",
   "mimetype": "text/x-python",
   "name": "python",
   "nbconvert_exporter": "python",
   "pygments_lexer": "ipython3",
   "version": "3.11.3"
  }
 },
 "nbformat": 4,
 "nbformat_minor": 5
}
